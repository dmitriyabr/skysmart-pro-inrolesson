{
  "nbformat": 4,
  "nbformat_minor": 0,
  "metadata": {
    "colab": {
      "provenance": []
    },
    "kernelspec": {
      "name": "python3",
      "display_name": "Python 3"
    },
    "language_info": {
      "name": "python"
    }
  },
  "cells": [
    {
      "cell_type": "code",
      "source": [
        "import pandas as pd\n",
        "import plotly\n",
        "import plotly.express as px\n",
        "import world_bank_data as wb\n",
        "\n",
        "\n",
        "def version_to_int_list(version):\n",
        "    return [int(s) for s in version.split('.')]\n",
        "\n",
        "\n",
        "assert version_to_int_list(plotly.__version__) >= version_to_int_list('3.8.0'), 'Sunburst plots require Plotly >= 3.8.0'\n",
        "\n",
        "pd.set_option('display.max_rows', 20)\n",
        "countries = wb.get_countries()"
      ],
      "metadata": {
        "id": "7ahkuyhygNGc"
      },
      "execution_count": null,
      "outputs": []
    },
    {
      "cell_type": "code",
      "source": [
        "def showCountryCharts(countries = ['RUS'], my_name = 'ученик'):\n",
        "  countries_df = wb.get_countries()\n",
        "  selected_c = wb.get_series('EG.ELC.ACCS.ZS', id_or_value='id', simplify_index=True)\n",
        "  df = pd.DataFrame.from_dict(selected_c)\n",
        "  df = df['EG.ELC.ACCS.ZS']\n",
        "  df.dropna(inplace=True)\n",
        "  df_new = df[countries]\n",
        "  df_new = df_new.reset_index(level=[0,1])\n",
        "  df_new.rename(columns={\"EG.ELC.ACCS.ZS\": \"Electricity\"}, inplace=True)\n",
        "  df_new = df_new.join(countries_df['name'], on='Country')\n",
        "  fig2 = px.line(df_new, x=\"Year\", y=\"Electricity\", color='name', title='Доступность электричества в разных странах. График построил '+my_name+' на вводном уроке в Skysmart')\n",
        "  fig2.show(renderer=\"colab\")"
      ],
      "metadata": {
        "id": "0SFwCpYqEoX7"
      },
      "execution_count": null,
      "outputs": []
    },
    {
      "cell_type": "markdown",
      "source": [
        "##Электричество — необходимый ресурс для жизни современного человека\n",
        "##Но всем ли оно доступно?\n",
        "В этом уроке, мы проведем настоящее исследование, узнаем где в мире живут люди без электричества и как оно проникает в разные страны за последние 30 лет.\n",
        "\n",
        "Но для начала, давай узнаем, как через код работать со сложными данными, например со списком стран.\n",
        "\n",
        "Набери в строчке ниже код, чтобы узнать что за трех буквенные коды есть у разных стран\n",
        "\n",
        "```\n",
        "countries['name']\n",
        "```\n",
        "\n"
      ],
      "metadata": {
        "id": "BnH5yYI5JCH_"
      }
    },
    {
      "cell_type": "code",
      "source": [
        "# ввводи код ниже\n",
        "countries['name']"
      ],
      "metadata": {
        "id": "etLGvWdOgblm"
      },
      "execution_count": null,
      "outputs": []
    },
    {
      "cell_type": "markdown",
      "source": [
        "У каждой страны, есть свой трёхбуквенный код, он нужен, чтобы искать данные в разных источниках, не опасаясь опечаток в названиях стран. У России, этот код: RUS.\n",
        "\n",
        "Следующий шаг — разобраться в куче цифр из всемирного хранилища данных **World Data Bank**. Ученик нашей школы уже написал основной код, который забирает эти данные и показывает нам график, давай запустим его и поймем, что он показывает?"
      ],
      "metadata": {
        "id": "P3_T09SXKinh"
      }
    },
    {
      "cell_type": "code",
      "source": [
        "access_to_electricity = wb.get_series('EG.ELC.ACCS.ZS', id_or_value='id', simplify_index=True, mrv=1)\n",
        "electro = countries[['region', 'name']].rename(columns={'name': 'country'}).loc[countries.region != 'Aggregates']\n",
        "electro['Electricity'] = access_to_electricity\n",
        "electro.sort_values(by=['Electricity'], ascending=False, inplace=True)\n",
        "electro.dropna(inplace=True)\n",
        "fig = px.bar(electro, x='country', y='Electricity')\n",
        "fig.show(renderer=\"colab\")"
      ],
      "metadata": {
        "id": "QGsv9yzDgv7R"
      },
      "execution_count": null,
      "outputs": []
    },
    {
      "cell_type": "markdown",
      "source": [
        "В любой стране есть хотя бы немного электричества, но если в России электричество доступно каждому жителю, то в африканской стране Чад — электричество есть **всего лишь у 11% населения**, представляешь?\n",
        "На графике, который ты вывел — как раз и видно, у какой доли населения каждой страны, есть электричество.\n",
        "\n",
        "Давай подробнее изучим наши данные и выведем 20 стран с самым низким проникновением электричества?\n",
        "\n",
        "Все данные, разработчик положил в **массив** *electro*. Массив это такая коробочка, в которой лежит много-много значений, в нашем случае — много стран с проникновением электричества в них. Чтобы посмотреть самые последние страны, выведем \"хвост\" этого массива. Набрав код \n",
        "\n",
        "```\n",
        "electro.tail( А сюда положим число стран, которые надо вывести )\n",
        "```\n",
        "\n"
      ],
      "metadata": {
        "id": "Jn0cDVscMGgL"
      }
    },
    {
      "cell_type": "code",
      "source": [
        "electro.tail(20)"
      ],
      "metadata": {
        "id": "Oj9YDoz3mDW1"
      },
      "execution_count": null,
      "outputs": []
    },
    {
      "cell_type": "markdown",
      "source": [
        "Поздравляю!\n",
        "Изучать данные бывает очень интересно, теперь ты знаешь в какие страны не стоит ехать, если тебе хочется чтобы везде можно было подзарядить телефон.\n",
        "\n",
        "А что если мы хотим покопаться в истории и узнать, как менялось проникновение электричества в последние годы? Давай построим такой график?\n",
        "\n",
        "Вот только засада, стран очень много и если вывести на график их все — будет ничего не понятно.\n",
        "Выбери 5-10 стран графики которых ты захочешь сравнить и дополни код, чтобы нарисовать график"
      ],
      "metadata": {
        "id": "sMfYYoO0N73C"
      }
    },
    {
      "cell_type": "code",
      "source": [
        "# Образец\n",
        "# showCountryCharts(\n",
        "#     countries = ['RUS', 'RWA'],\n",
        "#     my_name='Петя'\n",
        "#     )"
      ],
      "metadata": {
        "id": "FzKD1nnNPLX4"
      },
      "execution_count": null,
      "outputs": []
    },
    {
      "cell_type": "code",
      "source": [
        "showCountryCharts(\n",
        "    countries = ['RUS', 'RWA', 'CAF', 'BDI', 'TCD', 'AFE', 'IND'],\n",
        "    my_name='Дима'\n",
        "    )"
      ],
      "metadata": {
        "id": "PwEE4XlzFWb5"
      },
      "execution_count": null,
      "outputs": []
    }
  ]
}
