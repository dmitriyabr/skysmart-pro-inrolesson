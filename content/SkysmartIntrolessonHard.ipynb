{
  "nbformat": 4,
  "nbformat_minor": 0,
  "metadata": {
    "colab": {
      "provenance": []
    },
    "kernelspec": {
      "name": "python3",
      "display_name": "Python 3"
    },
    "language_info": {
      "name": "python"
    }
  },
  "cells": [
    {
      "cell_type": "code",
      "execution_count": null,
      "metadata": {
        "colab": {
          "base_uri": "https://localhost:8080/"
        },
        "id": "pUc6ERcBf4Zi",
        "outputId": "9b378cf0-f639-4b87-dcb9-137f264c8b3a"
      },
      "outputs": [
        {
          "output_type": "stream",
          "name": "stdout",
          "text": [
            "Looking in indexes: https://pypi.org/simple, https://us-python.pkg.dev/colab-wheels/public/simple/\n",
            "Requirement already satisfied: world_bank_data in /usr/local/lib/python3.7/dist-packages (0.1.3)\n",
            "Requirement already satisfied: cachetools in /usr/local/lib/python3.7/dist-packages (from world_bank_data) (4.2.4)\n",
            "Requirement already satisfied: pandas in /usr/local/lib/python3.7/dist-packages (from world_bank_data) (1.3.5)\n",
            "Requirement already satisfied: requests in /usr/local/lib/python3.7/dist-packages (from world_bank_data) (2.23.0)\n",
            "Requirement already satisfied: pytz>=2017.3 in /usr/local/lib/python3.7/dist-packages (from pandas->world_bank_data) (2022.2.1)\n",
            "Requirement already satisfied: python-dateutil>=2.7.3 in /usr/local/lib/python3.7/dist-packages (from pandas->world_bank_data) (2.8.2)\n",
            "Requirement already satisfied: numpy>=1.17.3 in /usr/local/lib/python3.7/dist-packages (from pandas->world_bank_data) (1.21.6)\n",
            "Requirement already satisfied: six>=1.5 in /usr/local/lib/python3.7/dist-packages (from python-dateutil>=2.7.3->pandas->world_bank_data) (1.15.0)\n",
            "Requirement already satisfied: idna<3,>=2.5 in /usr/local/lib/python3.7/dist-packages (from requests->world_bank_data) (2.10)\n",
            "Requirement already satisfied: urllib3!=1.25.0,!=1.25.1,<1.26,>=1.21.1 in /usr/local/lib/python3.7/dist-packages (from requests->world_bank_data) (1.24.3)\n",
            "Requirement already satisfied: certifi>=2017.4.17 in /usr/local/lib/python3.7/dist-packages (from requests->world_bank_data) (2022.6.15)\n",
            "Requirement already satisfied: chardet<4,>=3.0.2 in /usr/local/lib/python3.7/dist-packages (from requests->world_bank_data) (3.0.4)\n",
            "Looking in indexes: https://pypi.org/simple, https://us-python.pkg.dev/colab-wheels/public/simple/\n",
            "Requirement already satisfied: plotly in /usr/local/lib/python3.7/dist-packages (5.5.0)\n",
            "Requirement already satisfied: tenacity>=6.2.0 in /usr/local/lib/python3.7/dist-packages (from plotly) (8.0.1)\n",
            "Requirement already satisfied: six in /usr/local/lib/python3.7/dist-packages (from plotly) (1.15.0)\n"
          ]
        }
      ],
      "source": [
        "!pip install world_bank_data\n",
        "!pip install plotly"
      ]
    },
    {
      "cell_type": "code",
      "source": [
        "import pandas as pd\n",
        "import plotly\n",
        "import plotly.express as px\n",
        "import world_bank_data as wb\n",
        "\n",
        "\n",
        "def version_to_int_list(version):\n",
        "    return [int(s) for s in version.split('.')]\n",
        "\n",
        "\n",
        "assert version_to_int_list(plotly.__version__) >= version_to_int_list('3.8.0'), 'Sunburst plots require Plotly >= 3.8.0'\n",
        "\n",
        "pd.set_option('display.max_rows', 20)\n",
        "countries = wb.get_countries()"
      ],
      "metadata": {
        "id": "7ahkuyhygNGc"
      },
      "execution_count": null,
      "outputs": []
    },
    {
      "cell_type": "code",
      "source": [
        "def showCountryCharts(countries = ['RUS'], my_name = 'ученик'):\n",
        "  countries_df = wb.get_countries()\n",
        "  selected_c = wb.get_series('EG.ELC.ACCS.ZS', id_or_value='id', simplify_index=True)\n",
        "  df = pd.DataFrame.from_dict(selected_c)\n",
        "  df = df['EG.ELC.ACCS.ZS']\n",
        "  df.dropna(inplace=True)\n",
        "  df_new = df[countries]\n",
        "  df_new = df_new.reset_index(level=[0,1])\n",
        "  df_new.rename(columns={\"EG.ELC.ACCS.ZS\": \"Electricity\"}, inplace=True)\n",
        "  df_new = df_new.join(countries_df['name'], on='Country')\n",
        "  fig2 = px.line(df_new, x=\"Year\", y=\"Electricity\", color='name', title='Доступность электричества в разных странах. График построил '+my_name+' на вводном уроке в Skysmart')\n",
        "  fig2.show(renderer=\"colab\")"
      ],
      "metadata": {
        "id": "0SFwCpYqEoX7"
      },
      "execution_count": null,
      "outputs": []
    },
    {
      "cell_type": "markdown",
      "source": [
        "##Электричество — необходимый ресурс для жизни современного человека\n",
        "##Но всем ли оно доступно?\n",
        "В этом уроке, мы проведем настоящее исследование, узнаем где в мире живут люди без электричества и как оно проникает в разные страны за последние 30 лет.\n",
        "\n",
        "Но для начала, давай узнаем, как через код работать со сложными данными, например со списком стран.\n",
        "\n",
        "Набери в строчке ниже код, чтобы узнать что за трех буквенные коды есть у разных стран\n",
        "\n",
        "```\n",
        "countries['name']\n",
        "```\n",
        "\n"
      ],
      "metadata": {
        "id": "BnH5yYI5JCH_"
      }
    },
    {
      "cell_type": "code",
      "source": [
        "# ввводи код ниже\n",
        "countries['name']"
      ],
      "metadata": {
        "colab": {
          "base_uri": "https://localhost:8080/"
        },
        "id": "etLGvWdOgblm",
        "outputId": "9ec82281-faf8-4d47-c385-edaa2c6d04af"
      },
      "execution_count": null,
      "outputs": [
        {
          "output_type": "execute_result",
          "data": {
            "text/plain": [
              "id\n",
              "ABW                                                Aruba\n",
              "AFE                          Africa Eastern and Southern\n",
              "AFG                                          Afghanistan\n",
              "AFR                                               Africa\n",
              "AFW                           Africa Western and Central\n",
              "                             ...                        \n",
              "XZN    Sub-Saharan Africa excluding South Africa and ...\n",
              "YEM                                          Yemen, Rep.\n",
              "ZAF                                         South Africa\n",
              "ZMB                                               Zambia\n",
              "ZWE                                             Zimbabwe\n",
              "Name: name, Length: 299, dtype: object"
            ]
          },
          "metadata": {},
          "execution_count": 166
        }
      ]
    },
    {
      "cell_type": "markdown",
      "source": [
        "У каждой страны, есть свой трёхбуквенный код, он нужен, чтобы искать данные в разных источниках, не опасаясь опечаток в названиях стран. У России, этот код: RUS.\n",
        "\n",
        "Следующий шаг — разобраться в куче цифр из всемирного хранилища данных **World Data Bank**. Ученик нашей школы уже написал основной код, который забирает эти данные и показывает нам график, давай запустим его и поймем, что он показывает?"
      ],
      "metadata": {
        "id": "P3_T09SXKinh"
      }
    },
    {
      "cell_type": "code",
      "source": [
        "access_to_electricity = wb.get_series('EG.ELC.ACCS.ZS', id_or_value='id', simplify_index=True, mrv=1)\n",
        "electro = countries[['region', 'name']].rename(columns={'name': 'country'}).loc[countries.region != 'Aggregates']\n",
        "electro['Electricity'] = access_to_electricity\n",
        "electro.sort_values(by=['Electricity'], ascending=False, inplace=True)\n",
        "electro.dropna(inplace=True)\n",
        "fig = px.bar(electro, x='country', y='Electricity')\n",
        "fig.show(renderer=\"colab\")"
      ],
      "metadata": {
        "colab": {
          "base_uri": "https://localhost:8080/",
          "height": 542
        },
        "id": "QGsv9yzDgv7R",
        "outputId": "43c22baf-c65e-40c2-db55-b2edd0f48f06"
      },
      "execution_count": null,
      "outputs": [
        {
          "output_type": "display_data",
          "data": {
            "text/html": [
              "<html>\n",
              "<head><meta charset=\"utf-8\" /></head>\n",
              "<body>\n",
              "    <div>            <script src=\"https://cdnjs.cloudflare.com/ajax/libs/mathjax/2.7.5/MathJax.js?config=TeX-AMS-MML_SVG\"></script><script type=\"text/javascript\">if (window.MathJax) {MathJax.Hub.Config({SVG: {font: \"STIX-Web\"}});}</script>                <script type=\"text/javascript\">window.PlotlyConfig = {MathJaxConfig: 'local'};</script>\n",
              "        <script src=\"https://cdn.plot.ly/plotly-2.8.3.min.js\"></script>                <div id=\"83144562-165b-4502-b6e4-2f3ef1354872\" class=\"plotly-graph-div\" style=\"height:525px; width:100%;\"></div>            <script type=\"text/javascript\">                                    window.PLOTLYENV=window.PLOTLYENV || {};                                    if (document.getElementById(\"83144562-165b-4502-b6e4-2f3ef1354872\")) {                    Plotly.newPlot(                        \"83144562-165b-4502-b6e4-2f3ef1354872\",                        [{\"alignmentgroup\":\"True\",\"hovertemplate\":\"country=%{x}<br>Electricity=%{y}<extra></extra>\",\"legendgroup\":\"\",\"marker\":{\"color\":\"#636efa\",\"pattern\":{\"shape\":\"\"}},\"name\":\"\",\"offsetgroup\":\"\",\"orientation\":\"v\",\"showlegend\":false,\"textposition\":\"auto\",\"x\":[\"Aruba\",\"Maldives\",\"Luxembourg\",\"Latvia\",\"Macao SAR, China\",\"St. Martin (French part)\",\"Morocco\",\"Monaco\",\"Moldova\",\"North Macedonia\",\"Sri Lanka\",\"Malta\",\"Montenegro\",\"Northern Mariana Islands\",\"Malaysia\",\"New Caledonia\",\"Netherlands\",\"Norway\",\"Lithuania\",\"Liechtenstein\",\"Guam\",\"Israel\",\"Croatia\",\"Hungary\",\"Isle of Man\",\"Ireland\",\"Iran, Islamic Rep.\",\"Iraq\",\"Iceland\",\"Italy\",\"St. Lucia\",\"Jamaica\",\"Japan\",\"Kazakhstan\",\"St. Kitts and Nevis\",\"Korea, Rep.\",\"Kuwait\",\"Lao PDR\",\"Nauru\",\"New Zealand\",\"Oman\",\"Uruguay\",\"Thailand\",\"Turkmenistan\",\"Tonga\",\"Trinidad and Tobago\",\"Tunisia\",\"Turkiye\",\"Ukraine\",\"United States\",\"Palau\",\"Uzbekistan\",\"St. Vincent and the Grenadines\",\"Venezuela, RB\",\"British Virgin Islands\",\"Virgin Islands (U.S.)\",\"Vietnam\",\"Samoa\",\"Seychelles\",\"Sint Maarten (Dutch part)\",\"Sweden\",\"Slovenia\",\"Poland\",\"Puerto Rico\",\"Portugal\",\"Paraguay\",\"West Bank and Gaza\",\"French Polynesia\",\"Qatar\",\"Romania\",\"Russian Federation\",\"Saudi Arabia\",\"Singapore\",\"El Salvador\",\"San Marino\",\"Serbia\",\"Slovak Republic\",\"Hong Kong SAR, China\",\"Lebanon\",\"Curacao\",\"Cuba\",\"Argentina\",\"Egypt, Arab Rep.\",\"Dominican Republic\",\"Denmark\",\"Dominica\",\"Armenia\",\"Germany\",\"Czech Republic\",\"Antigua and Barbuda\",\"Cyprus\",\"Cayman Islands\",\"Australia\",\"Austria\",\"Azerbaijan\",\"Colombia\",\"Spain\",\"Belgium\",\"China\",\"Chile\",\"Channel Islands\",\"Switzerland\",\"Canada\",\"Bhutan\",\"Brunei Darussalam\",\"Barbados\",\"Brazil\",\"Bermuda\",\"Belarus\",\"Bosnia and Herzegovina\",\"Bahamas, The\",\"United Arab Emirates\",\"Bahrain\",\"Estonia\",\"Fiji\",\"Andorra\",\"Gibraltar\",\"Greece\",\"United Kingdom\",\"Faroe Islands\",\"France\",\"Georgia\",\"Finland\",\"Greenland\",\"Albania\",\"Kyrgyz Republic\",\"Costa Rica\",\"Jordan\",\"Algeria\",\"Tajikistan\",\"Bulgaria\",\"Tuvalu\",\"Mauritius\",\"Turks and Caicos Islands\",\"Mexico\",\"Peru\",\"Marshall Islands\",\"India\",\"Ecuador\",\"Suriname\",\"Mongolia\",\"Afghanistan\",\"Bolivia\",\"Belize\",\"Guatemala\",\"Indonesia\",\"Philippines\",\"Panama\",\"Bangladesh\",\"Timor-Leste\",\"Cabo Verde\",\"Grenada\",\"Honduras\",\"Guyana\",\"Kiribati\",\"Gabon\",\"Nepal\",\"Syrian Arab Republic\",\"Nicaragua\",\"Comoros\",\"Cambodia\",\"Ghana\",\"South Africa\",\"Micronesia, Fed. Sts.\",\"Eswatini\",\"Sao Tome and Principe\",\"Pakistan\",\"Yemen, Rep.\",\"Solomon Islands\",\"Botswana\",\"Kenya\",\"Myanmar\",\"Senegal\",\"Libya\",\"Cote d'Ivoire\",\"Vanuatu\",\"Equatorial Guinea\",\"Cameroon\",\"Gambia, The\",\"Djibouti\",\"Papua New Guinea\",\"Namibia\",\"Nigeria\",\"Sudan\",\"Togo\",\"Zimbabwe\",\"Korea, Dem. People's Rep.\",\"Eritrea\",\"Ethiopia\",\"Mali\",\"Somalia\",\"Congo, Rep.\",\"Lesotho\",\"Mauritania\",\"Haiti\",\"Angola\",\"Rwanda\",\"Guinea\",\"Zambia\",\"Uganda\",\"Benin\",\"Tanzania\",\"Madagascar\",\"Guinea-Bissau\",\"Mozambique\",\"Liberia\",\"Sierra Leone\",\"Niger\",\"Congo, Dem. Rep.\",\"Burkina Faso\",\"Central African Republic\",\"Malawi\",\"Burundi\",\"Chad\",\"South Sudan\"],\"xaxis\":\"x\",\"y\":[100.0,100.0,100.0,100.0,100.0,100.0,100.0,100.0,100.0,100.0,100.0,100.0,100.0,100.0,100.0,100.0,100.0,100.0,100.0,100.0,100.0,100.0,100.0,100.0,100.0,100.0,100.0,100.0,100.0,100.0,100.0,100.0,100.0,100.0,100.0,100.0,100.0,100.0,100.0,100.0,100.0,100.0,100.0,100.0,100.0,100.0,100.0,100.0,100.0,100.0,100.0,100.0,100.0,100.0,100.0,100.0,100.0,100.0,100.0,100.0,100.0,100.0,100.0,100.0,100.0,100.0,100.0,100.0,100.0,100.0,100.0,100.0,100.0,100.0,100.0,100.0,100.0,100.0,100.0,100.0,100.0,100.0,100.0,100.0,100.0,100.0,100.0,100.0,100.0,100.0,100.0,100.0,100.0,100.0,100.0,100.0,100.0,100.0,100.0,100.0,100.0,100.0,100.0,100.0,100.0,100.0,100.0,100.0,100.0,100.0,100.0,100.0,100.0,100.0,100.0,100.0,100.0,100.0,100.0,100.0,100.0,100.0,100.0,100.0,100.0,99.9810485839844,99.9000015258789,99.9000015258789,99.8041305541992,99.779296875,99.6999969482422,99.6892318725586,99.6616516113281,99.4000015258789,99.4000015258789,99.3118133544922,99.1606063842773,99.0,98.8499984741211,98.2047729492188,98.0999984741211,97.6999969482422,97.5541229248047,97.1133346557617,97.0552673339844,96.9499969482422,96.8423843383789,96.7046356201172,96.1999969482422,96.1233139038086,94.1617431640625,93.5864486694336,93.2067108154297,92.5405426025391,91.9630279541016,91.5715637207031,89.9000015258789,89.1403198242188,88.9073791503906,86.7371368408203,86.4000015258789,85.8735504150391,84.3855361938477,82.9259185791016,79.7304992675781,76.5590896606445,75.3796920776367,73.757926940918,73.3464813232422,71.994758605957,71.4379425048828,70.3971939086914,70.3689422607422,69.7073516845703,69.6791229248047,67.3332672119141,66.7477264404297,64.7213668823242,62.2730674743652,61.7670822143555,60.4000015258789,56.2586936950684,55.4000015258789,55.3897018432617,53.9974327087402,52.7476692199707,52.3135452270508,52.1710968017578,51.0939826965332,50.5614166259766,49.7308692932129,49.5171012878418,47.3527374267578,47.3484191894531,46.9255332946777,46.8906097412109,46.5999984741211,44.6686782836914,44.5244750976563,42.0744171142578,41.4109573364258,39.9000015258789,33.7350769042969,33.3354682922363,30.603832244873,27.5347099304199,26.2008857727051,19.2519092559814,19.1000003814697,18.957239151001,15.4650840759277,14.8667688369751,11.7355556488037,11.080117225647,7.24133825302124],\"yaxis\":\"y\",\"type\":\"bar\"}],                        {\"template\":{\"data\":{\"bar\":[{\"error_x\":{\"color\":\"#2a3f5f\"},\"error_y\":{\"color\":\"#2a3f5f\"},\"marker\":{\"line\":{\"color\":\"#E5ECF6\",\"width\":0.5},\"pattern\":{\"fillmode\":\"overlay\",\"size\":10,\"solidity\":0.2}},\"type\":\"bar\"}],\"barpolar\":[{\"marker\":{\"line\":{\"color\":\"#E5ECF6\",\"width\":0.5},\"pattern\":{\"fillmode\":\"overlay\",\"size\":10,\"solidity\":0.2}},\"type\":\"barpolar\"}],\"carpet\":[{\"aaxis\":{\"endlinecolor\":\"#2a3f5f\",\"gridcolor\":\"white\",\"linecolor\":\"white\",\"minorgridcolor\":\"white\",\"startlinecolor\":\"#2a3f5f\"},\"baxis\":{\"endlinecolor\":\"#2a3f5f\",\"gridcolor\":\"white\",\"linecolor\":\"white\",\"minorgridcolor\":\"white\",\"startlinecolor\":\"#2a3f5f\"},\"type\":\"carpet\"}],\"choropleth\":[{\"colorbar\":{\"outlinewidth\":0,\"ticks\":\"\"},\"type\":\"choropleth\"}],\"contour\":[{\"colorbar\":{\"outlinewidth\":0,\"ticks\":\"\"},\"colorscale\":[[0.0,\"#0d0887\"],[0.1111111111111111,\"#46039f\"],[0.2222222222222222,\"#7201a8\"],[0.3333333333333333,\"#9c179e\"],[0.4444444444444444,\"#bd3786\"],[0.5555555555555556,\"#d8576b\"],[0.6666666666666666,\"#ed7953\"],[0.7777777777777778,\"#fb9f3a\"],[0.8888888888888888,\"#fdca26\"],[1.0,\"#f0f921\"]],\"type\":\"contour\"}],\"contourcarpet\":[{\"colorbar\":{\"outlinewidth\":0,\"ticks\":\"\"},\"type\":\"contourcarpet\"}],\"heatmap\":[{\"colorbar\":{\"outlinewidth\":0,\"ticks\":\"\"},\"colorscale\":[[0.0,\"#0d0887\"],[0.1111111111111111,\"#46039f\"],[0.2222222222222222,\"#7201a8\"],[0.3333333333333333,\"#9c179e\"],[0.4444444444444444,\"#bd3786\"],[0.5555555555555556,\"#d8576b\"],[0.6666666666666666,\"#ed7953\"],[0.7777777777777778,\"#fb9f3a\"],[0.8888888888888888,\"#fdca26\"],[1.0,\"#f0f921\"]],\"type\":\"heatmap\"}],\"heatmapgl\":[{\"colorbar\":{\"outlinewidth\":0,\"ticks\":\"\"},\"colorscale\":[[0.0,\"#0d0887\"],[0.1111111111111111,\"#46039f\"],[0.2222222222222222,\"#7201a8\"],[0.3333333333333333,\"#9c179e\"],[0.4444444444444444,\"#bd3786\"],[0.5555555555555556,\"#d8576b\"],[0.6666666666666666,\"#ed7953\"],[0.7777777777777778,\"#fb9f3a\"],[0.8888888888888888,\"#fdca26\"],[1.0,\"#f0f921\"]],\"type\":\"heatmapgl\"}],\"histogram\":[{\"marker\":{\"pattern\":{\"fillmode\":\"overlay\",\"size\":10,\"solidity\":0.2}},\"type\":\"histogram\"}],\"histogram2d\":[{\"colorbar\":{\"outlinewidth\":0,\"ticks\":\"\"},\"colorscale\":[[0.0,\"#0d0887\"],[0.1111111111111111,\"#46039f\"],[0.2222222222222222,\"#7201a8\"],[0.3333333333333333,\"#9c179e\"],[0.4444444444444444,\"#bd3786\"],[0.5555555555555556,\"#d8576b\"],[0.6666666666666666,\"#ed7953\"],[0.7777777777777778,\"#fb9f3a\"],[0.8888888888888888,\"#fdca26\"],[1.0,\"#f0f921\"]],\"type\":\"histogram2d\"}],\"histogram2dcontour\":[{\"colorbar\":{\"outlinewidth\":0,\"ticks\":\"\"},\"colorscale\":[[0.0,\"#0d0887\"],[0.1111111111111111,\"#46039f\"],[0.2222222222222222,\"#7201a8\"],[0.3333333333333333,\"#9c179e\"],[0.4444444444444444,\"#bd3786\"],[0.5555555555555556,\"#d8576b\"],[0.6666666666666666,\"#ed7953\"],[0.7777777777777778,\"#fb9f3a\"],[0.8888888888888888,\"#fdca26\"],[1.0,\"#f0f921\"]],\"type\":\"histogram2dcontour\"}],\"mesh3d\":[{\"colorbar\":{\"outlinewidth\":0,\"ticks\":\"\"},\"type\":\"mesh3d\"}],\"parcoords\":[{\"line\":{\"colorbar\":{\"outlinewidth\":0,\"ticks\":\"\"}},\"type\":\"parcoords\"}],\"pie\":[{\"automargin\":true,\"type\":\"pie\"}],\"scatter\":[{\"marker\":{\"colorbar\":{\"outlinewidth\":0,\"ticks\":\"\"}},\"type\":\"scatter\"}],\"scatter3d\":[{\"line\":{\"colorbar\":{\"outlinewidth\":0,\"ticks\":\"\"}},\"marker\":{\"colorbar\":{\"outlinewidth\":0,\"ticks\":\"\"}},\"type\":\"scatter3d\"}],\"scattercarpet\":[{\"marker\":{\"colorbar\":{\"outlinewidth\":0,\"ticks\":\"\"}},\"type\":\"scattercarpet\"}],\"scattergeo\":[{\"marker\":{\"colorbar\":{\"outlinewidth\":0,\"ticks\":\"\"}},\"type\":\"scattergeo\"}],\"scattergl\":[{\"marker\":{\"colorbar\":{\"outlinewidth\":0,\"ticks\":\"\"}},\"type\":\"scattergl\"}],\"scattermapbox\":[{\"marker\":{\"colorbar\":{\"outlinewidth\":0,\"ticks\":\"\"}},\"type\":\"scattermapbox\"}],\"scatterpolar\":[{\"marker\":{\"colorbar\":{\"outlinewidth\":0,\"ticks\":\"\"}},\"type\":\"scatterpolar\"}],\"scatterpolargl\":[{\"marker\":{\"colorbar\":{\"outlinewidth\":0,\"ticks\":\"\"}},\"type\":\"scatterpolargl\"}],\"scatterternary\":[{\"marker\":{\"colorbar\":{\"outlinewidth\":0,\"ticks\":\"\"}},\"type\":\"scatterternary\"}],\"surface\":[{\"colorbar\":{\"outlinewidth\":0,\"ticks\":\"\"},\"colorscale\":[[0.0,\"#0d0887\"],[0.1111111111111111,\"#46039f\"],[0.2222222222222222,\"#7201a8\"],[0.3333333333333333,\"#9c179e\"],[0.4444444444444444,\"#bd3786\"],[0.5555555555555556,\"#d8576b\"],[0.6666666666666666,\"#ed7953\"],[0.7777777777777778,\"#fb9f3a\"],[0.8888888888888888,\"#fdca26\"],[1.0,\"#f0f921\"]],\"type\":\"surface\"}],\"table\":[{\"cells\":{\"fill\":{\"color\":\"#EBF0F8\"},\"line\":{\"color\":\"white\"}},\"header\":{\"fill\":{\"color\":\"#C8D4E3\"},\"line\":{\"color\":\"white\"}},\"type\":\"table\"}]},\"layout\":{\"annotationdefaults\":{\"arrowcolor\":\"#2a3f5f\",\"arrowhead\":0,\"arrowwidth\":1},\"autotypenumbers\":\"strict\",\"coloraxis\":{\"colorbar\":{\"outlinewidth\":0,\"ticks\":\"\"}},\"colorscale\":{\"diverging\":[[0,\"#8e0152\"],[0.1,\"#c51b7d\"],[0.2,\"#de77ae\"],[0.3,\"#f1b6da\"],[0.4,\"#fde0ef\"],[0.5,\"#f7f7f7\"],[0.6,\"#e6f5d0\"],[0.7,\"#b8e186\"],[0.8,\"#7fbc41\"],[0.9,\"#4d9221\"],[1,\"#276419\"]],\"sequential\":[[0.0,\"#0d0887\"],[0.1111111111111111,\"#46039f\"],[0.2222222222222222,\"#7201a8\"],[0.3333333333333333,\"#9c179e\"],[0.4444444444444444,\"#bd3786\"],[0.5555555555555556,\"#d8576b\"],[0.6666666666666666,\"#ed7953\"],[0.7777777777777778,\"#fb9f3a\"],[0.8888888888888888,\"#fdca26\"],[1.0,\"#f0f921\"]],\"sequentialminus\":[[0.0,\"#0d0887\"],[0.1111111111111111,\"#46039f\"],[0.2222222222222222,\"#7201a8\"],[0.3333333333333333,\"#9c179e\"],[0.4444444444444444,\"#bd3786\"],[0.5555555555555556,\"#d8576b\"],[0.6666666666666666,\"#ed7953\"],[0.7777777777777778,\"#fb9f3a\"],[0.8888888888888888,\"#fdca26\"],[1.0,\"#f0f921\"]]},\"colorway\":[\"#636efa\",\"#EF553B\",\"#00cc96\",\"#ab63fa\",\"#FFA15A\",\"#19d3f3\",\"#FF6692\",\"#B6E880\",\"#FF97FF\",\"#FECB52\"],\"font\":{\"color\":\"#2a3f5f\"},\"geo\":{\"bgcolor\":\"white\",\"lakecolor\":\"white\",\"landcolor\":\"#E5ECF6\",\"showlakes\":true,\"showland\":true,\"subunitcolor\":\"white\"},\"hoverlabel\":{\"align\":\"left\"},\"hovermode\":\"closest\",\"mapbox\":{\"style\":\"light\"},\"paper_bgcolor\":\"white\",\"plot_bgcolor\":\"#E5ECF6\",\"polar\":{\"angularaxis\":{\"gridcolor\":\"white\",\"linecolor\":\"white\",\"ticks\":\"\"},\"bgcolor\":\"#E5ECF6\",\"radialaxis\":{\"gridcolor\":\"white\",\"linecolor\":\"white\",\"ticks\":\"\"}},\"scene\":{\"xaxis\":{\"backgroundcolor\":\"#E5ECF6\",\"gridcolor\":\"white\",\"gridwidth\":2,\"linecolor\":\"white\",\"showbackground\":true,\"ticks\":\"\",\"zerolinecolor\":\"white\"},\"yaxis\":{\"backgroundcolor\":\"#E5ECF6\",\"gridcolor\":\"white\",\"gridwidth\":2,\"linecolor\":\"white\",\"showbackground\":true,\"ticks\":\"\",\"zerolinecolor\":\"white\"},\"zaxis\":{\"backgroundcolor\":\"#E5ECF6\",\"gridcolor\":\"white\",\"gridwidth\":2,\"linecolor\":\"white\",\"showbackground\":true,\"ticks\":\"\",\"zerolinecolor\":\"white\"}},\"shapedefaults\":{\"line\":{\"color\":\"#2a3f5f\"}},\"ternary\":{\"aaxis\":{\"gridcolor\":\"white\",\"linecolor\":\"white\",\"ticks\":\"\"},\"baxis\":{\"gridcolor\":\"white\",\"linecolor\":\"white\",\"ticks\":\"\"},\"bgcolor\":\"#E5ECF6\",\"caxis\":{\"gridcolor\":\"white\",\"linecolor\":\"white\",\"ticks\":\"\"}},\"title\":{\"x\":0.05},\"xaxis\":{\"automargin\":true,\"gridcolor\":\"white\",\"linecolor\":\"white\",\"ticks\":\"\",\"title\":{\"standoff\":15},\"zerolinecolor\":\"white\",\"zerolinewidth\":2},\"yaxis\":{\"automargin\":true,\"gridcolor\":\"white\",\"linecolor\":\"white\",\"ticks\":\"\",\"title\":{\"standoff\":15},\"zerolinecolor\":\"white\",\"zerolinewidth\":2}}},\"xaxis\":{\"anchor\":\"y\",\"domain\":[0.0,1.0],\"title\":{\"text\":\"country\"}},\"yaxis\":{\"anchor\":\"x\",\"domain\":[0.0,1.0],\"title\":{\"text\":\"Electricity\"}},\"legend\":{\"tracegroupgap\":0},\"margin\":{\"t\":60},\"barmode\":\"relative\"},                        {\"responsive\": true}                    ).then(function(){\n",
              "                            \n",
              "var gd = document.getElementById('83144562-165b-4502-b6e4-2f3ef1354872');\n",
              "var x = new MutationObserver(function (mutations, observer) {{\n",
              "        var display = window.getComputedStyle(gd).display;\n",
              "        if (!display || display === 'none') {{\n",
              "            console.log([gd, 'removed!']);\n",
              "            Plotly.purge(gd);\n",
              "            observer.disconnect();\n",
              "        }}\n",
              "}});\n",
              "\n",
              "// Listen for the removal of the full notebook cells\n",
              "var notebookContainer = gd.closest('#notebook-container');\n",
              "if (notebookContainer) {{\n",
              "    x.observe(notebookContainer, {childList: true});\n",
              "}}\n",
              "\n",
              "// Listen for the clearing of the current output cell\n",
              "var outputEl = gd.closest('.output');\n",
              "if (outputEl) {{\n",
              "    x.observe(outputEl, {childList: true});\n",
              "}}\n",
              "\n",
              "                        })                };                            </script>        </div>\n",
              "</body>\n",
              "</html>"
            ]
          },
          "metadata": {}
        }
      ]
    },
    {
      "cell_type": "markdown",
      "source": [
        "В любой стране есть хотя бы немного электричества, но если в России электричество доступно каждому жителю, то в африканской стране Чад — электричество есть **всего лишь у 11% населения**, представляешь?\n",
        "На графике, который ты вывел — как раз и видно, у какой доли населения каждой страны, есть электричество.\n",
        "\n",
        "Давай подробнее изучим наши данные и выведем 20 стран с самым низким проникновением электричества?\n",
        "\n",
        "Все данные, разработчик положил в **массив** *electro*. Массив это такая коробочка, в которой лежит много-много значений, в нашем случае — много стран с проникновением электричества в них. Чтобы посмотреть самые последние страны, выведем \"хвост\" этого массива. Набрав код \n",
        "\n",
        "```\n",
        "electro.tail( А сюда положим число стран, которые надо вывести )\n",
        "```\n",
        "\n"
      ],
      "metadata": {
        "id": "Jn0cDVscMGgL"
      }
    },
    {
      "cell_type": "code",
      "source": [
        "electro.tail(20)"
      ],
      "metadata": {
        "colab": {
          "base_uri": "https://localhost:8080/",
          "height": 708
        },
        "id": "Oj9YDoz3mDW1",
        "outputId": "cf081b5f-7d6f-40fe-fde7-afaff62ab7ec"
      },
      "execution_count": null,
      "outputs": [
        {
          "output_type": "execute_result",
          "data": {
            "text/plain": [
              "                  region                   country  Electricity\n",
              "id                                                             \n",
              "AGO  Sub-Saharan Africa                     Angola    46.890610\n",
              "RWA  Sub-Saharan Africa                     Rwanda    46.599998\n",
              "GIN  Sub-Saharan Africa                     Guinea    44.668678\n",
              "ZMB  Sub-Saharan Africa                     Zambia    44.524475\n",
              "UGA  Sub-Saharan Africa                     Uganda    42.074417\n",
              "BEN  Sub-Saharan Africa                      Benin    41.410957\n",
              "TZA  Sub-Saharan Africa                   Tanzania    39.900002\n",
              "MDG  Sub-Saharan Africa                 Madagascar    33.735077\n",
              "GNB  Sub-Saharan Africa              Guinea-Bissau    33.335468\n",
              "MOZ  Sub-Saharan Africa                 Mozambique    30.603832\n",
              "LBR  Sub-Saharan Africa                    Liberia    27.534710\n",
              "SLE  Sub-Saharan Africa               Sierra Leone    26.200886\n",
              "NER  Sub-Saharan Africa                      Niger    19.251909\n",
              "COD  Sub-Saharan Africa           Congo, Dem. Rep.    19.100000\n",
              "BFA  Sub-Saharan Africa               Burkina Faso    18.957239\n",
              "CAF  Sub-Saharan Africa   Central African Republic    15.465084\n",
              "MWI  Sub-Saharan Africa                     Malawi    14.866769\n",
              "BDI  Sub-Saharan Africa                    Burundi    11.735556\n",
              "TCD  Sub-Saharan Africa                       Chad    11.080117\n",
              "SSD  Sub-Saharan Africa                South Sudan     7.241338"
            ],
            "text/html": [
              "\n",
              "  <div id=\"df-b8e7eece-e5e9-4a27-a960-3579d229c5fb\">\n",
              "    <div class=\"colab-df-container\">\n",
              "      <div>\n",
              "<style scoped>\n",
              "    .dataframe tbody tr th:only-of-type {\n",
              "        vertical-align: middle;\n",
              "    }\n",
              "\n",
              "    .dataframe tbody tr th {\n",
              "        vertical-align: top;\n",
              "    }\n",
              "\n",
              "    .dataframe thead th {\n",
              "        text-align: right;\n",
              "    }\n",
              "</style>\n",
              "<table border=\"1\" class=\"dataframe\">\n",
              "  <thead>\n",
              "    <tr style=\"text-align: right;\">\n",
              "      <th></th>\n",
              "      <th>region</th>\n",
              "      <th>country</th>\n",
              "      <th>Electricity</th>\n",
              "    </tr>\n",
              "    <tr>\n",
              "      <th>id</th>\n",
              "      <th></th>\n",
              "      <th></th>\n",
              "      <th></th>\n",
              "    </tr>\n",
              "  </thead>\n",
              "  <tbody>\n",
              "    <tr>\n",
              "      <th>AGO</th>\n",
              "      <td>Sub-Saharan Africa</td>\n",
              "      <td>Angola</td>\n",
              "      <td>46.890610</td>\n",
              "    </tr>\n",
              "    <tr>\n",
              "      <th>RWA</th>\n",
              "      <td>Sub-Saharan Africa</td>\n",
              "      <td>Rwanda</td>\n",
              "      <td>46.599998</td>\n",
              "    </tr>\n",
              "    <tr>\n",
              "      <th>GIN</th>\n",
              "      <td>Sub-Saharan Africa</td>\n",
              "      <td>Guinea</td>\n",
              "      <td>44.668678</td>\n",
              "    </tr>\n",
              "    <tr>\n",
              "      <th>ZMB</th>\n",
              "      <td>Sub-Saharan Africa</td>\n",
              "      <td>Zambia</td>\n",
              "      <td>44.524475</td>\n",
              "    </tr>\n",
              "    <tr>\n",
              "      <th>UGA</th>\n",
              "      <td>Sub-Saharan Africa</td>\n",
              "      <td>Uganda</td>\n",
              "      <td>42.074417</td>\n",
              "    </tr>\n",
              "    <tr>\n",
              "      <th>BEN</th>\n",
              "      <td>Sub-Saharan Africa</td>\n",
              "      <td>Benin</td>\n",
              "      <td>41.410957</td>\n",
              "    </tr>\n",
              "    <tr>\n",
              "      <th>TZA</th>\n",
              "      <td>Sub-Saharan Africa</td>\n",
              "      <td>Tanzania</td>\n",
              "      <td>39.900002</td>\n",
              "    </tr>\n",
              "    <tr>\n",
              "      <th>MDG</th>\n",
              "      <td>Sub-Saharan Africa</td>\n",
              "      <td>Madagascar</td>\n",
              "      <td>33.735077</td>\n",
              "    </tr>\n",
              "    <tr>\n",
              "      <th>GNB</th>\n",
              "      <td>Sub-Saharan Africa</td>\n",
              "      <td>Guinea-Bissau</td>\n",
              "      <td>33.335468</td>\n",
              "    </tr>\n",
              "    <tr>\n",
              "      <th>MOZ</th>\n",
              "      <td>Sub-Saharan Africa</td>\n",
              "      <td>Mozambique</td>\n",
              "      <td>30.603832</td>\n",
              "    </tr>\n",
              "    <tr>\n",
              "      <th>LBR</th>\n",
              "      <td>Sub-Saharan Africa</td>\n",
              "      <td>Liberia</td>\n",
              "      <td>27.534710</td>\n",
              "    </tr>\n",
              "    <tr>\n",
              "      <th>SLE</th>\n",
              "      <td>Sub-Saharan Africa</td>\n",
              "      <td>Sierra Leone</td>\n",
              "      <td>26.200886</td>\n",
              "    </tr>\n",
              "    <tr>\n",
              "      <th>NER</th>\n",
              "      <td>Sub-Saharan Africa</td>\n",
              "      <td>Niger</td>\n",
              "      <td>19.251909</td>\n",
              "    </tr>\n",
              "    <tr>\n",
              "      <th>COD</th>\n",
              "      <td>Sub-Saharan Africa</td>\n",
              "      <td>Congo, Dem. Rep.</td>\n",
              "      <td>19.100000</td>\n",
              "    </tr>\n",
              "    <tr>\n",
              "      <th>BFA</th>\n",
              "      <td>Sub-Saharan Africa</td>\n",
              "      <td>Burkina Faso</td>\n",
              "      <td>18.957239</td>\n",
              "    </tr>\n",
              "    <tr>\n",
              "      <th>CAF</th>\n",
              "      <td>Sub-Saharan Africa</td>\n",
              "      <td>Central African Republic</td>\n",
              "      <td>15.465084</td>\n",
              "    </tr>\n",
              "    <tr>\n",
              "      <th>MWI</th>\n",
              "      <td>Sub-Saharan Africa</td>\n",
              "      <td>Malawi</td>\n",
              "      <td>14.866769</td>\n",
              "    </tr>\n",
              "    <tr>\n",
              "      <th>BDI</th>\n",
              "      <td>Sub-Saharan Africa</td>\n",
              "      <td>Burundi</td>\n",
              "      <td>11.735556</td>\n",
              "    </tr>\n",
              "    <tr>\n",
              "      <th>TCD</th>\n",
              "      <td>Sub-Saharan Africa</td>\n",
              "      <td>Chad</td>\n",
              "      <td>11.080117</td>\n",
              "    </tr>\n",
              "    <tr>\n",
              "      <th>SSD</th>\n",
              "      <td>Sub-Saharan Africa</td>\n",
              "      <td>South Sudan</td>\n",
              "      <td>7.241338</td>\n",
              "    </tr>\n",
              "  </tbody>\n",
              "</table>\n",
              "</div>\n",
              "      <button class=\"colab-df-convert\" onclick=\"convertToInteractive('df-b8e7eece-e5e9-4a27-a960-3579d229c5fb')\"\n",
              "              title=\"Convert this dataframe to an interactive table.\"\n",
              "              style=\"display:none;\">\n",
              "        \n",
              "  <svg xmlns=\"http://www.w3.org/2000/svg\" height=\"24px\"viewBox=\"0 0 24 24\"\n",
              "       width=\"24px\">\n",
              "    <path d=\"M0 0h24v24H0V0z\" fill=\"none\"/>\n",
              "    <path d=\"M18.56 5.44l.94 2.06.94-2.06 2.06-.94-2.06-.94-.94-2.06-.94 2.06-2.06.94zm-11 1L8.5 8.5l.94-2.06 2.06-.94-2.06-.94L8.5 2.5l-.94 2.06-2.06.94zm10 10l.94 2.06.94-2.06 2.06-.94-2.06-.94-.94-2.06-.94 2.06-2.06.94z\"/><path d=\"M17.41 7.96l-1.37-1.37c-.4-.4-.92-.59-1.43-.59-.52 0-1.04.2-1.43.59L10.3 9.45l-7.72 7.72c-.78.78-.78 2.05 0 2.83L4 21.41c.39.39.9.59 1.41.59.51 0 1.02-.2 1.41-.59l7.78-7.78 2.81-2.81c.8-.78.8-2.07 0-2.86zM5.41 20L4 18.59l7.72-7.72 1.47 1.35L5.41 20z\"/>\n",
              "  </svg>\n",
              "      </button>\n",
              "      \n",
              "  <style>\n",
              "    .colab-df-container {\n",
              "      display:flex;\n",
              "      flex-wrap:wrap;\n",
              "      gap: 12px;\n",
              "    }\n",
              "\n",
              "    .colab-df-convert {\n",
              "      background-color: #E8F0FE;\n",
              "      border: none;\n",
              "      border-radius: 50%;\n",
              "      cursor: pointer;\n",
              "      display: none;\n",
              "      fill: #1967D2;\n",
              "      height: 32px;\n",
              "      padding: 0 0 0 0;\n",
              "      width: 32px;\n",
              "    }\n",
              "\n",
              "    .colab-df-convert:hover {\n",
              "      background-color: #E2EBFA;\n",
              "      box-shadow: 0px 1px 2px rgba(60, 64, 67, 0.3), 0px 1px 3px 1px rgba(60, 64, 67, 0.15);\n",
              "      fill: #174EA6;\n",
              "    }\n",
              "\n",
              "    [theme=dark] .colab-df-convert {\n",
              "      background-color: #3B4455;\n",
              "      fill: #D2E3FC;\n",
              "    }\n",
              "\n",
              "    [theme=dark] .colab-df-convert:hover {\n",
              "      background-color: #434B5C;\n",
              "      box-shadow: 0px 1px 3px 1px rgba(0, 0, 0, 0.15);\n",
              "      filter: drop-shadow(0px 1px 2px rgba(0, 0, 0, 0.3));\n",
              "      fill: #FFFFFF;\n",
              "    }\n",
              "  </style>\n",
              "\n",
              "      <script>\n",
              "        const buttonEl =\n",
              "          document.querySelector('#df-b8e7eece-e5e9-4a27-a960-3579d229c5fb button.colab-df-convert');\n",
              "        buttonEl.style.display =\n",
              "          google.colab.kernel.accessAllowed ? 'block' : 'none';\n",
              "\n",
              "        async function convertToInteractive(key) {\n",
              "          const element = document.querySelector('#df-b8e7eece-e5e9-4a27-a960-3579d229c5fb');\n",
              "          const dataTable =\n",
              "            await google.colab.kernel.invokeFunction('convertToInteractive',\n",
              "                                                     [key], {});\n",
              "          if (!dataTable) return;\n",
              "\n",
              "          const docLinkHtml = 'Like what you see? Visit the ' +\n",
              "            '<a target=\"_blank\" href=https://colab.research.google.com/notebooks/data_table.ipynb>data table notebook</a>'\n",
              "            + ' to learn more about interactive tables.';\n",
              "          element.innerHTML = '';\n",
              "          dataTable['output_type'] = 'display_data';\n",
              "          await google.colab.output.renderOutput(dataTable, element);\n",
              "          const docLink = document.createElement('div');\n",
              "          docLink.innerHTML = docLinkHtml;\n",
              "          element.appendChild(docLink);\n",
              "        }\n",
              "      </script>\n",
              "    </div>\n",
              "  </div>\n",
              "  "
            ]
          },
          "metadata": {},
          "execution_count": 172
        }
      ]
    },
    {
      "cell_type": "markdown",
      "source": [
        "Поздравляю!\n",
        "Изучать данные бывает очень интересно, теперь ты знаешь в какие страны не стоит ехать, если тебе хочется чтобы везде можно было подзарядить телефон.\n",
        "\n",
        "А что если мы хотим покопаться в истории и узнать, как менялось проникновение электричества в последние годы? Давай построим такой график?\n",
        "\n",
        "Вот только засада, стран очень много и если вывести на график их все — будет ничего не понятно.\n",
        "Выбери 5-10 стран графики которых ты захочешь сравнить и дополни код, чтобы нарисовать график"
      ],
      "metadata": {
        "id": "sMfYYoO0N73C"
      }
    },
    {
      "cell_type": "code",
      "source": [
        "# Образец\n",
        "# showCountryCharts(\n",
        "#     countries = ['RUS', 'RWA'],\n",
        "#     my_name='Петя'\n",
        "#     )"
      ],
      "metadata": {
        "id": "FzKD1nnNPLX4"
      },
      "execution_count": null,
      "outputs": []
    },
    {
      "cell_type": "code",
      "source": [
        "showCountryCharts(\n",
        "    countries = ['RUS', 'RWA', 'CAF', 'BDI', 'TCD', 'AFE', 'IND'],\n",
        "    my_name='Дима'\n",
        "    )"
      ],
      "metadata": {
        "colab": {
          "base_uri": "https://localhost:8080/",
          "height": 542
        },
        "id": "PwEE4XlzFWb5",
        "outputId": "20c0beec-5365-41d9-d59f-ab3788cf4278"
      },
      "execution_count": null,
      "outputs": [
        {
          "output_type": "display_data",
          "data": {
            "text/html": [
              "<html>\n",
              "<head><meta charset=\"utf-8\" /></head>\n",
              "<body>\n",
              "    <div>            <script src=\"https://cdnjs.cloudflare.com/ajax/libs/mathjax/2.7.5/MathJax.js?config=TeX-AMS-MML_SVG\"></script><script type=\"text/javascript\">if (window.MathJax) {MathJax.Hub.Config({SVG: {font: \"STIX-Web\"}});}</script>                <script type=\"text/javascript\">window.PlotlyConfig = {MathJaxConfig: 'local'};</script>\n",
              "        <script src=\"https://cdn.plot.ly/plotly-2.8.3.min.js\"></script>                <div id=\"bc120b43-f8ef-409f-a896-c67d5fa48cc3\" class=\"plotly-graph-div\" style=\"height:525px; width:100%;\"></div>            <script type=\"text/javascript\">                                    window.PLOTLYENV=window.PLOTLYENV || {};                                    if (document.getElementById(\"bc120b43-f8ef-409f-a896-c67d5fa48cc3\")) {                    Plotly.newPlot(                        \"bc120b43-f8ef-409f-a896-c67d5fa48cc3\",                        [{\"hovertemplate\":\"name=Russian Federation<br>Year=%{x}<br>Electricity=%{y}<extra></extra>\",\"legendgroup\":\"Russian Federation\",\"line\":{\"color\":\"#636efa\",\"dash\":\"solid\"},\"marker\":{\"symbol\":\"circle\"},\"mode\":\"lines\",\"name\":\"Russian Federation\",\"orientation\":\"v\",\"showlegend\":true,\"x\":[\"1990\",\"1991\",\"1992\",\"1993\",\"1994\",\"1995\",\"1996\",\"1997\",\"1998\",\"1999\",\"2000\",\"2001\",\"2002\",\"2003\",\"2004\",\"2005\",\"2006\",\"2007\",\"2008\",\"2009\",\"2010\",\"2011\",\"2012\",\"2013\",\"2014\",\"2015\",\"2016\",\"2017\",\"2018\",\"2019\",\"2020\"],\"xaxis\":\"x\",\"y\":[100.0,100.0,100.0,100.0,100.0,100.0,100.0,100.0,100.0,100.0,100.0,100.0,100.0,100.0,100.0,100.0,100.0,100.0,100.0,100.0,100.0,100.0,100.0,100.0,100.0,95.5,100.0,100.0,100.0,100.0,100.0],\"yaxis\":\"y\",\"type\":\"scatter\"},{\"hovertemplate\":\"name=Rwanda<br>Year=%{x}<br>Electricity=%{y}<extra></extra>\",\"legendgroup\":\"Rwanda\",\"line\":{\"color\":\"#EF553B\",\"dash\":\"solid\"},\"marker\":{\"symbol\":\"circle\"},\"mode\":\"lines\",\"name\":\"Rwanda\",\"orientation\":\"v\",\"showlegend\":true,\"x\":[\"1992\",\"1997\",\"1998\",\"1999\",\"2000\",\"2001\",\"2002\",\"2003\",\"2004\",\"2005\",\"2006\",\"2007\",\"2008\",\"2009\",\"2010\",\"2011\",\"2012\",\"2013\",\"2014\",\"2015\",\"2016\",\"2017\",\"2018\",\"2019\",\"2020\"],\"xaxis\":\"x\",\"y\":[2.3,1.02783596515656,2.17412757873535,3.31557703018188,6.19999980926514,4.57231616973877,5.93285799026489,7.2881646156311,8.64058494567871,4.80000019073486,11.3462257385254,12.7045030593872,6.0,15.4454612731934,9.69999980926514,10.8000001907349,17.5,15.1999998092651,19.7999992370605,22.7999992370605,29.3700008392334,34.0999984741211,36.9681510925293,40.3686065673828,46.5999984741211],\"yaxis\":\"y\",\"type\":\"scatter\"},{\"hovertemplate\":\"name=Central African Republic<br>Year=%{x}<br>Electricity=%{y}<extra></extra>\",\"legendgroup\":\"Central African Republic\",\"line\":{\"color\":\"#00cc96\",\"dash\":\"solid\"},\"marker\":{\"symbol\":\"circle\"},\"mode\":\"lines\",\"name\":\"Central African Republic\",\"orientation\":\"v\",\"showlegend\":true,\"x\":[\"1995\",\"1996\",\"1997\",\"1998\",\"1999\",\"2000\",\"2001\",\"2002\",\"2003\",\"2004\",\"2005\",\"2006\",\"2007\",\"2008\",\"2009\",\"2010\",\"2011\",\"2012\",\"2013\",\"2014\",\"2015\",\"2016\",\"2017\",\"2018\",\"2019\",\"2020\"],\"xaxis\":\"x\",\"y\":[3.0,3.33491563796997,3.83021020889282,4.32142543792725,4.80779838562012,6.0,5.7360520362854,6.17705392837524,6.61282014846802,7.04570055007935,7.4780445098877,7.80516910552979,8.35099792480469,7.48000001907349,9.25287532806396,9.80000019073486,10.2466478347778,10.8688611984253,11.4691410064697,12.0573968887329,12.727029800415,13.5338163375854,14.2995414733887,14.8423757553101,14.3000001907349,15.4650840759277],\"yaxis\":\"y\",\"type\":\"scatter\"},{\"hovertemplate\":\"name=Burundi<br>Year=%{x}<br>Electricity=%{y}<extra></extra>\",\"legendgroup\":\"Burundi\",\"line\":{\"color\":\"#ab63fa\",\"dash\":\"solid\"},\"marker\":{\"symbol\":\"circle\"},\"mode\":\"lines\",\"name\":\"Burundi\",\"orientation\":\"v\",\"showlegend\":true,\"x\":[\"1998\",\"1999\",\"2000\",\"2001\",\"2002\",\"2003\",\"2004\",\"2005\",\"2006\",\"2007\",\"2008\",\"2009\",\"2010\",\"2011\",\"2012\",\"2013\",\"2014\",\"2015\",\"2016\",\"2017\",\"2018\",\"2019\",\"2020\"],\"xaxis\":\"x\",\"y\":[3.9,2.07094931602478,2.46323680877686,2.79742002487183,3.12401843070984,3.44538164138794,3.76385879516602,3.20731711387634,2.66000008583069,4.7259464263916,4.80000019073486,5.39901685714722,5.30000019073486,6.12268400192261,6.5,6.90000009536743,7.0,8.42765235900879,9.34840965270996,9.30000019073486,10.8849086761475,11.3565282821655,11.7355556488037],\"yaxis\":\"y\",\"type\":\"scatter\"},{\"hovertemplate\":\"name=Chad<br>Year=%{x}<br>Electricity=%{y}<extra></extra>\",\"legendgroup\":\"Chad\",\"line\":{\"color\":\"#FFA15A\",\"dash\":\"solid\"},\"marker\":{\"symbol\":\"circle\"},\"mode\":\"lines\",\"name\":\"Chad\",\"orientation\":\"v\",\"showlegend\":true,\"x\":[\"1997\",\"1998\",\"1999\",\"2000\",\"2001\",\"2002\",\"2003\",\"2004\",\"2005\",\"2006\",\"2007\",\"2008\",\"2009\",\"2010\",\"2011\",\"2012\",\"2013\",\"2014\",\"2015\",\"2016\",\"2017\",\"2018\",\"2019\",\"2020\"],\"xaxis\":\"x\",\"y\":[2.3,2.42038726806641,2.80621337890625,3.17988133430481,3.5271143913269,3.86676287651062,4.20117616653442,3.5,4.86369371414185,5.19655656814575,5.53394079208374,5.87855625152588,6.23311138153076,6.40000009536743,8.97999954223633,7.8354058265686,8.12655830383301,8.40568542480469,7.69999980926514,9.26384735107422,10.8999996185303,10.1140403747559,8.39999961853027,11.080117225647],\"yaxis\":\"y\",\"type\":\"scatter\"},{\"hovertemplate\":\"name=Africa Eastern and Southern<br>Year=%{x}<br>Electricity=%{y}<extra></extra>\",\"legendgroup\":\"Africa Eastern and Southern\",\"line\":{\"color\":\"#19d3f3\",\"dash\":\"solid\"},\"marker\":{\"symbol\":\"circle\"},\"mode\":\"lines\",\"name\":\"Africa Eastern and Southern\",\"orientation\":\"v\",\"showlegend\":true,\"x\":[\"2000\",\"2001\",\"2002\",\"2003\",\"2004\",\"2005\",\"2006\",\"2007\",\"2008\",\"2009\",\"2010\",\"2011\",\"2012\",\"2013\",\"2014\",\"2015\",\"2016\",\"2017\",\"2018\",\"2019\",\"2020\"],\"xaxis\":\"x\",\"y\":[19.8112830487474,19.9005689869631,21.5258119502625,22.474309042094,23.7819183655274,23.4874149559786,24.7635379213968,26.7665177602956,25.9341794754403,26.1815567981524,27.5571371356059,29.0898268292514,31.8443844038242,31.794159992766,32.001026781227,33.8719104646129,38.8801732244203,40.261357595893,43.061876950924,44.2708604789338,45.8034852293868],\"yaxis\":\"y\",\"type\":\"scatter\"},{\"hovertemplate\":\"name=India<br>Year=%{x}<br>Electricity=%{y}<extra></extra>\",\"legendgroup\":\"India\",\"line\":{\"color\":\"#FF6692\",\"dash\":\"solid\"},\"marker\":{\"symbol\":\"circle\"},\"mode\":\"lines\",\"name\":\"India\",\"orientation\":\"v\",\"showlegend\":true,\"x\":[\"1993\",\"1994\",\"1995\",\"1996\",\"1997\",\"1998\",\"1999\",\"2000\",\"2001\",\"2002\",\"2003\",\"2004\",\"2005\",\"2006\",\"2007\",\"2008\",\"2009\",\"2010\",\"2011\",\"2012\",\"2013\",\"2014\",\"2015\",\"2016\",\"2017\",\"2018\",\"2019\",\"2020\"],\"xaxis\":\"x\",\"y\":[50.9,49.8113098144531,51.4087753295898,53.0035209655762,54.5948638916016,56.1821327209473,60.1,58.7214736938477,55.7999992370605,62.2999992370605,64.0474853515625,64.4000015258789,67.5798110961914,67.9000015258789,71.1198654174805,72.8993835449219,75.0,76.3000030517578,67.5999984741211,79.9000015258789,81.9993286132813,83.8724975585938,88.0,89.2177963256836,92.1249465942383,95.6999969482422,97.3082656860352,99.0],\"yaxis\":\"y\",\"type\":\"scatter\"}],                        {\"template\":{\"data\":{\"bar\":[{\"error_x\":{\"color\":\"#2a3f5f\"},\"error_y\":{\"color\":\"#2a3f5f\"},\"marker\":{\"line\":{\"color\":\"#E5ECF6\",\"width\":0.5},\"pattern\":{\"fillmode\":\"overlay\",\"size\":10,\"solidity\":0.2}},\"type\":\"bar\"}],\"barpolar\":[{\"marker\":{\"line\":{\"color\":\"#E5ECF6\",\"width\":0.5},\"pattern\":{\"fillmode\":\"overlay\",\"size\":10,\"solidity\":0.2}},\"type\":\"barpolar\"}],\"carpet\":[{\"aaxis\":{\"endlinecolor\":\"#2a3f5f\",\"gridcolor\":\"white\",\"linecolor\":\"white\",\"minorgridcolor\":\"white\",\"startlinecolor\":\"#2a3f5f\"},\"baxis\":{\"endlinecolor\":\"#2a3f5f\",\"gridcolor\":\"white\",\"linecolor\":\"white\",\"minorgridcolor\":\"white\",\"startlinecolor\":\"#2a3f5f\"},\"type\":\"carpet\"}],\"choropleth\":[{\"colorbar\":{\"outlinewidth\":0,\"ticks\":\"\"},\"type\":\"choropleth\"}],\"contour\":[{\"colorbar\":{\"outlinewidth\":0,\"ticks\":\"\"},\"colorscale\":[[0.0,\"#0d0887\"],[0.1111111111111111,\"#46039f\"],[0.2222222222222222,\"#7201a8\"],[0.3333333333333333,\"#9c179e\"],[0.4444444444444444,\"#bd3786\"],[0.5555555555555556,\"#d8576b\"],[0.6666666666666666,\"#ed7953\"],[0.7777777777777778,\"#fb9f3a\"],[0.8888888888888888,\"#fdca26\"],[1.0,\"#f0f921\"]],\"type\":\"contour\"}],\"contourcarpet\":[{\"colorbar\":{\"outlinewidth\":0,\"ticks\":\"\"},\"type\":\"contourcarpet\"}],\"heatmap\":[{\"colorbar\":{\"outlinewidth\":0,\"ticks\":\"\"},\"colorscale\":[[0.0,\"#0d0887\"],[0.1111111111111111,\"#46039f\"],[0.2222222222222222,\"#7201a8\"],[0.3333333333333333,\"#9c179e\"],[0.4444444444444444,\"#bd3786\"],[0.5555555555555556,\"#d8576b\"],[0.6666666666666666,\"#ed7953\"],[0.7777777777777778,\"#fb9f3a\"],[0.8888888888888888,\"#fdca26\"],[1.0,\"#f0f921\"]],\"type\":\"heatmap\"}],\"heatmapgl\":[{\"colorbar\":{\"outlinewidth\":0,\"ticks\":\"\"},\"colorscale\":[[0.0,\"#0d0887\"],[0.1111111111111111,\"#46039f\"],[0.2222222222222222,\"#7201a8\"],[0.3333333333333333,\"#9c179e\"],[0.4444444444444444,\"#bd3786\"],[0.5555555555555556,\"#d8576b\"],[0.6666666666666666,\"#ed7953\"],[0.7777777777777778,\"#fb9f3a\"],[0.8888888888888888,\"#fdca26\"],[1.0,\"#f0f921\"]],\"type\":\"heatmapgl\"}],\"histogram\":[{\"marker\":{\"pattern\":{\"fillmode\":\"overlay\",\"size\":10,\"solidity\":0.2}},\"type\":\"histogram\"}],\"histogram2d\":[{\"colorbar\":{\"outlinewidth\":0,\"ticks\":\"\"},\"colorscale\":[[0.0,\"#0d0887\"],[0.1111111111111111,\"#46039f\"],[0.2222222222222222,\"#7201a8\"],[0.3333333333333333,\"#9c179e\"],[0.4444444444444444,\"#bd3786\"],[0.5555555555555556,\"#d8576b\"],[0.6666666666666666,\"#ed7953\"],[0.7777777777777778,\"#fb9f3a\"],[0.8888888888888888,\"#fdca26\"],[1.0,\"#f0f921\"]],\"type\":\"histogram2d\"}],\"histogram2dcontour\":[{\"colorbar\":{\"outlinewidth\":0,\"ticks\":\"\"},\"colorscale\":[[0.0,\"#0d0887\"],[0.1111111111111111,\"#46039f\"],[0.2222222222222222,\"#7201a8\"],[0.3333333333333333,\"#9c179e\"],[0.4444444444444444,\"#bd3786\"],[0.5555555555555556,\"#d8576b\"],[0.6666666666666666,\"#ed7953\"],[0.7777777777777778,\"#fb9f3a\"],[0.8888888888888888,\"#fdca26\"],[1.0,\"#f0f921\"]],\"type\":\"histogram2dcontour\"}],\"mesh3d\":[{\"colorbar\":{\"outlinewidth\":0,\"ticks\":\"\"},\"type\":\"mesh3d\"}],\"parcoords\":[{\"line\":{\"colorbar\":{\"outlinewidth\":0,\"ticks\":\"\"}},\"type\":\"parcoords\"}],\"pie\":[{\"automargin\":true,\"type\":\"pie\"}],\"scatter\":[{\"marker\":{\"colorbar\":{\"outlinewidth\":0,\"ticks\":\"\"}},\"type\":\"scatter\"}],\"scatter3d\":[{\"line\":{\"colorbar\":{\"outlinewidth\":0,\"ticks\":\"\"}},\"marker\":{\"colorbar\":{\"outlinewidth\":0,\"ticks\":\"\"}},\"type\":\"scatter3d\"}],\"scattercarpet\":[{\"marker\":{\"colorbar\":{\"outlinewidth\":0,\"ticks\":\"\"}},\"type\":\"scattercarpet\"}],\"scattergeo\":[{\"marker\":{\"colorbar\":{\"outlinewidth\":0,\"ticks\":\"\"}},\"type\":\"scattergeo\"}],\"scattergl\":[{\"marker\":{\"colorbar\":{\"outlinewidth\":0,\"ticks\":\"\"}},\"type\":\"scattergl\"}],\"scattermapbox\":[{\"marker\":{\"colorbar\":{\"outlinewidth\":0,\"ticks\":\"\"}},\"type\":\"scattermapbox\"}],\"scatterpolar\":[{\"marker\":{\"colorbar\":{\"outlinewidth\":0,\"ticks\":\"\"}},\"type\":\"scatterpolar\"}],\"scatterpolargl\":[{\"marker\":{\"colorbar\":{\"outlinewidth\":0,\"ticks\":\"\"}},\"type\":\"scatterpolargl\"}],\"scatterternary\":[{\"marker\":{\"colorbar\":{\"outlinewidth\":0,\"ticks\":\"\"}},\"type\":\"scatterternary\"}],\"surface\":[{\"colorbar\":{\"outlinewidth\":0,\"ticks\":\"\"},\"colorscale\":[[0.0,\"#0d0887\"],[0.1111111111111111,\"#46039f\"],[0.2222222222222222,\"#7201a8\"],[0.3333333333333333,\"#9c179e\"],[0.4444444444444444,\"#bd3786\"],[0.5555555555555556,\"#d8576b\"],[0.6666666666666666,\"#ed7953\"],[0.7777777777777778,\"#fb9f3a\"],[0.8888888888888888,\"#fdca26\"],[1.0,\"#f0f921\"]],\"type\":\"surface\"}],\"table\":[{\"cells\":{\"fill\":{\"color\":\"#EBF0F8\"},\"line\":{\"color\":\"white\"}},\"header\":{\"fill\":{\"color\":\"#C8D4E3\"},\"line\":{\"color\":\"white\"}},\"type\":\"table\"}]},\"layout\":{\"annotationdefaults\":{\"arrowcolor\":\"#2a3f5f\",\"arrowhead\":0,\"arrowwidth\":1},\"autotypenumbers\":\"strict\",\"coloraxis\":{\"colorbar\":{\"outlinewidth\":0,\"ticks\":\"\"}},\"colorscale\":{\"diverging\":[[0,\"#8e0152\"],[0.1,\"#c51b7d\"],[0.2,\"#de77ae\"],[0.3,\"#f1b6da\"],[0.4,\"#fde0ef\"],[0.5,\"#f7f7f7\"],[0.6,\"#e6f5d0\"],[0.7,\"#b8e186\"],[0.8,\"#7fbc41\"],[0.9,\"#4d9221\"],[1,\"#276419\"]],\"sequential\":[[0.0,\"#0d0887\"],[0.1111111111111111,\"#46039f\"],[0.2222222222222222,\"#7201a8\"],[0.3333333333333333,\"#9c179e\"],[0.4444444444444444,\"#bd3786\"],[0.5555555555555556,\"#d8576b\"],[0.6666666666666666,\"#ed7953\"],[0.7777777777777778,\"#fb9f3a\"],[0.8888888888888888,\"#fdca26\"],[1.0,\"#f0f921\"]],\"sequentialminus\":[[0.0,\"#0d0887\"],[0.1111111111111111,\"#46039f\"],[0.2222222222222222,\"#7201a8\"],[0.3333333333333333,\"#9c179e\"],[0.4444444444444444,\"#bd3786\"],[0.5555555555555556,\"#d8576b\"],[0.6666666666666666,\"#ed7953\"],[0.7777777777777778,\"#fb9f3a\"],[0.8888888888888888,\"#fdca26\"],[1.0,\"#f0f921\"]]},\"colorway\":[\"#636efa\",\"#EF553B\",\"#00cc96\",\"#ab63fa\",\"#FFA15A\",\"#19d3f3\",\"#FF6692\",\"#B6E880\",\"#FF97FF\",\"#FECB52\"],\"font\":{\"color\":\"#2a3f5f\"},\"geo\":{\"bgcolor\":\"white\",\"lakecolor\":\"white\",\"landcolor\":\"#E5ECF6\",\"showlakes\":true,\"showland\":true,\"subunitcolor\":\"white\"},\"hoverlabel\":{\"align\":\"left\"},\"hovermode\":\"closest\",\"mapbox\":{\"style\":\"light\"},\"paper_bgcolor\":\"white\",\"plot_bgcolor\":\"#E5ECF6\",\"polar\":{\"angularaxis\":{\"gridcolor\":\"white\",\"linecolor\":\"white\",\"ticks\":\"\"},\"bgcolor\":\"#E5ECF6\",\"radialaxis\":{\"gridcolor\":\"white\",\"linecolor\":\"white\",\"ticks\":\"\"}},\"scene\":{\"xaxis\":{\"backgroundcolor\":\"#E5ECF6\",\"gridcolor\":\"white\",\"gridwidth\":2,\"linecolor\":\"white\",\"showbackground\":true,\"ticks\":\"\",\"zerolinecolor\":\"white\"},\"yaxis\":{\"backgroundcolor\":\"#E5ECF6\",\"gridcolor\":\"white\",\"gridwidth\":2,\"linecolor\":\"white\",\"showbackground\":true,\"ticks\":\"\",\"zerolinecolor\":\"white\"},\"zaxis\":{\"backgroundcolor\":\"#E5ECF6\",\"gridcolor\":\"white\",\"gridwidth\":2,\"linecolor\":\"white\",\"showbackground\":true,\"ticks\":\"\",\"zerolinecolor\":\"white\"}},\"shapedefaults\":{\"line\":{\"color\":\"#2a3f5f\"}},\"ternary\":{\"aaxis\":{\"gridcolor\":\"white\",\"linecolor\":\"white\",\"ticks\":\"\"},\"baxis\":{\"gridcolor\":\"white\",\"linecolor\":\"white\",\"ticks\":\"\"},\"bgcolor\":\"#E5ECF6\",\"caxis\":{\"gridcolor\":\"white\",\"linecolor\":\"white\",\"ticks\":\"\"}},\"title\":{\"x\":0.05},\"xaxis\":{\"automargin\":true,\"gridcolor\":\"white\",\"linecolor\":\"white\",\"ticks\":\"\",\"title\":{\"standoff\":15},\"zerolinecolor\":\"white\",\"zerolinewidth\":2},\"yaxis\":{\"automargin\":true,\"gridcolor\":\"white\",\"linecolor\":\"white\",\"ticks\":\"\",\"title\":{\"standoff\":15},\"zerolinecolor\":\"white\",\"zerolinewidth\":2}}},\"xaxis\":{\"anchor\":\"y\",\"domain\":[0.0,1.0],\"title\":{\"text\":\"Year\"}},\"yaxis\":{\"anchor\":\"x\",\"domain\":[0.0,1.0],\"title\":{\"text\":\"Electricity\"}},\"legend\":{\"title\":{\"text\":\"name\"},\"tracegroupgap\":0},\"title\":{\"text\":\"\\u0414\\u043e\\u0441\\u0442\\u0443\\u043f\\u043d\\u043e\\u0441\\u0442\\u044c \\u044d\\u043b\\u0435\\u043a\\u0442\\u0440\\u0438\\u0447\\u0435\\u0441\\u0442\\u0432\\u0430 \\u0432 \\u0440\\u0430\\u0437\\u043d\\u044b\\u0445 \\u0441\\u0442\\u0440\\u0430\\u043d\\u0430\\u0445. \\u0413\\u0440\\u0430\\u0444\\u0438\\u043a \\u043f\\u043e\\u0441\\u0442\\u0440\\u043e\\u0438\\u043b \\u0414\\u0438\\u043c\\u0430 \\u043d\\u0430 \\u0432\\u0432\\u043e\\u0434\\u043d\\u043e\\u043c \\u0443\\u0440\\u043e\\u043a\\u0435 \\u0432 Skysmart\"}},                        {\"responsive\": true}                    ).then(function(){\n",
              "                            \n",
              "var gd = document.getElementById('bc120b43-f8ef-409f-a896-c67d5fa48cc3');\n",
              "var x = new MutationObserver(function (mutations, observer) {{\n",
              "        var display = window.getComputedStyle(gd).display;\n",
              "        if (!display || display === 'none') {{\n",
              "            console.log([gd, 'removed!']);\n",
              "            Plotly.purge(gd);\n",
              "            observer.disconnect();\n",
              "        }}\n",
              "}});\n",
              "\n",
              "// Listen for the removal of the full notebook cells\n",
              "var notebookContainer = gd.closest('#notebook-container');\n",
              "if (notebookContainer) {{\n",
              "    x.observe(notebookContainer, {childList: true});\n",
              "}}\n",
              "\n",
              "// Listen for the clearing of the current output cell\n",
              "var outputEl = gd.closest('.output');\n",
              "if (outputEl) {{\n",
              "    x.observe(outputEl, {childList: true});\n",
              "}}\n",
              "\n",
              "                        })                };                            </script>        </div>\n",
              "</body>\n",
              "</html>"
            ]
          },
          "metadata": {}
        }
      ]
    }
  ]
}